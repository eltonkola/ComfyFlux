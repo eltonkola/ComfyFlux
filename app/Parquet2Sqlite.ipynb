{
  "nbformat": 4,
  "nbformat_minor": 0,
  "metadata": {
    "colab": {
      "provenance": []
    },
    "kernelspec": {
      "name": "python3",
      "display_name": "Python 3"
    },
    "language_info": {
      "name": "python"
    }
  },
  "cells": [
    {
      "cell_type": "markdown",
      "source": [
        "Convert parquet file to sqlute databse"
      ],
      "metadata": {
        "id": "iMzWEAjrW6UU"
      }
    },
    {
      "cell_type": "code",
      "source": [
        "import pandas as pd\n",
        "import sqlite3\n",
        "\n",
        "# Read the Parquet file into a DataFrame\n",
        "df = pd.read_parquet('prompts.parquet')\n",
        "\n",
        "# Ensure there is a primary key column; if not, add one\n",
        "if 'id' not in df.columns:\n",
        "    df.reset_index(inplace=True)\n",
        "    df.rename(columns={'index': 'id'}, inplace=True)\n",
        "\n",
        "# Connect to a SQLite database (or create one if it doesn't exist)\n",
        "conn = sqlite3.connect('prompts.db')\n",
        "cursor = conn.cursor()\n",
        "\n",
        "# Create a metadata table\n",
        "cursor.execute('''\n",
        "CREATE TABLE IF NOT EXISTS metadata (\n",
        "    key TEXT PRIMARY KEY,\n",
        "    value TEXT\n",
        ")\n",
        "''')\n",
        "\n",
        "# Insert some metadata\n",
        "cursor.execute('''\n",
        "INSERT OR REPLACE INTO metadata (key, value) VALUES\n",
        "('version', '1.0'),\n",
        "('description', 'This is the train table from the prompts.parquet file')\n",
        "''')\n",
        "\n",
        "# Write the DataFrame to a SQLite table\n",
        "df.to_sql('prompts_table', conn, if_exists='replace', index=False)\n",
        "\n",
        "# Add a primary key constraint to the train_table\n",
        "cursor.execute('''\n",
        "CREATE TABLE IF NOT EXISTS prompts_table_temp AS SELECT * FROM prompts_table;\n",
        "DROP TABLE prompts_table;\n",
        "CREATE TABLE prompts_table (\n",
        "    id INTEGER PRIMARY KEY,\n",
        "    /* include other columns here explicitly if needed, e.g., col1, col2, ... */\n",
        ");\n",
        "INSERT INTO prompts_table SELECT * FROM prompts_table_temp;\n",
        "DROP TABLE prompts_table_temp;\n",
        "''')\n",
        "\n",
        "# Commit changes and close the connection\n",
        "conn.commit()\n",
        "conn.close()\n",
        "\n",
        "print(\"Parquet file has been successfully converted to a SQLite database with additional metadata.\")\n"
      ],
      "metadata": {
        "colab": {
          "base_uri": "https://localhost:8080/",
          "height": 211
        },
        "id": "OMPSR0zXWjl9",
        "outputId": "3af1b47f-0bec-47f8-cad4-0ebc60c10857"
      },
      "execution_count": 1,
      "outputs": [
        {
          "output_type": "error",
          "ename": "Warning",
          "evalue": "You can only execute one statement at a time.",
          "traceback": [
            "\u001b[0;31m---------------------------------------------------------------------------\u001b[0m",
            "\u001b[0;31mWarning\u001b[0m                                   Traceback (most recent call last)",
            "\u001b[0;32m<ipython-input-1-8430c1ad6aa6>\u001b[0m in \u001b[0;36m<cell line: 35>\u001b[0;34m()\u001b[0m\n\u001b[1;32m     33\u001b[0m \u001b[0;34m\u001b[0m\u001b[0m\n\u001b[1;32m     34\u001b[0m \u001b[0;31m# Add a primary key constraint to the train_table\u001b[0m\u001b[0;34m\u001b[0m\u001b[0;34m\u001b[0m\u001b[0m\n\u001b[0;32m---> 35\u001b[0;31m cursor.execute('''\n\u001b[0m\u001b[1;32m     36\u001b[0m \u001b[0mCREATE\u001b[0m \u001b[0mTABLE\u001b[0m \u001b[0mIF\u001b[0m \u001b[0mNOT\u001b[0m \u001b[0mEXISTS\u001b[0m \u001b[0mprompts_table_temp\u001b[0m \u001b[0mAS\u001b[0m \u001b[0mSELECT\u001b[0m \u001b[0;34m*\u001b[0m \u001b[0mFROM\u001b[0m \u001b[0mprompts_table\u001b[0m\u001b[0;34m;\u001b[0m\u001b[0;34m\u001b[0m\u001b[0;34m\u001b[0m\u001b[0m\n\u001b[1;32m     37\u001b[0m \u001b[0mDROP\u001b[0m \u001b[0mTABLE\u001b[0m \u001b[0mprompts_table\u001b[0m\u001b[0;34m;\u001b[0m\u001b[0;34m\u001b[0m\u001b[0;34m\u001b[0m\u001b[0m\n",
            "\u001b[0;31mWarning\u001b[0m: You can only execute one statement at a time."
          ]
        }
      ]
    }
  ]
}